{
 "cells": [
  {
   "cell_type": "markdown",
   "metadata": {},
   "source": [
    "## 1. Preparing Alpha Factors and Features"
   ]
  },
  {
   "cell_type": "markdown",
   "metadata": {},
   "source": [
    "In this part, I ingest the data and engineer market factors from the data. Alot of breakdowns for the multiindex and formatting. "
   ]
  },
  {
   "cell_type": "markdown",
   "metadata": {},
   "source": [
    "## Imports & Settings"
   ]
  },
  {
   "cell_type": "code",
   "execution_count": 2,
   "metadata": {
    "ExecuteTime": {
     "end_time": "2021-02-25T02:25:40.960749Z",
     "start_time": "2021-02-25T02:25:40.958783Z"
    }
   },
   "outputs": [],
   "source": [
    "import warnings\n",
    "warnings.filterwarnings('ignore')"
   ]
  },
  {
   "cell_type": "code",
   "execution_count": 3,
   "metadata": {
    "ExecuteTime": {
     "end_time": "2021-02-25T02:25:41.685336Z",
     "start_time": "2021-02-25T02:25:40.966186Z"
    }
   },
   "outputs": [],
   "source": [
    "%matplotlib inline\n",
    "import numpy as np\n",
    "import pandas as pd\n",
    "import matplotlib.pyplot as plt\n",
    "import seaborn as sns\n",
    "import talib\n",
    "from talib import RSI, BBANDS, MACD, ATR, SAR"
   ]
  },
  {
   "cell_type": "code",
   "execution_count": 4,
   "metadata": {
    "ExecuteTime": {
     "end_time": "2021-02-25T02:25:41.689152Z",
     "start_time": "2021-02-25T02:25:41.686291Z"
    }
   },
   "outputs": [],
   "source": [
    "MONTH = 21\n",
    "YEAR = 12 * MONTH"
   ]
  },
  {
   "cell_type": "code",
   "execution_count": 5,
   "metadata": {
    "ExecuteTime": {
     "end_time": "2021-02-25T02:25:41.701014Z",
     "start_time": "2021-02-25T02:25:41.690760Z"
    }
   },
   "outputs": [],
   "source": [
    "START = '2012-01-01'\n",
    "END = '2019-12-31' "
   ]
  },
  {
   "cell_type": "code",
   "execution_count": 6,
   "metadata": {
    "ExecuteTime": {
     "end_time": "2021-02-25T02:25:41.710405Z",
     "start_time": "2021-02-25T02:25:41.702050Z"
    }
   },
   "outputs": [],
   "source": [
    "sns.set_style('darkgrid')\n",
    "idx = pd.IndexSlice"
   ]
  },
  {
   "cell_type": "code",
   "execution_count": 7,
   "metadata": {
    "ExecuteTime": {
     "end_time": "2021-02-25T02:25:41.719203Z",
     "start_time": "2021-02-25T02:25:41.711268Z"
    }
   },
   "outputs": [],
   "source": [
    "percentiles = [.001, .01, .02, .03, .04, .05]\n",
    "percentiles += [1-p for p in percentiles[::-1]]"
   ]
  },
  {
   "cell_type": "code",
   "execution_count": 8,
   "metadata": {
    "ExecuteTime": {
     "end_time": "2021-02-25T02:25:41.728454Z",
     "start_time": "2021-02-25T02:25:41.720239Z"
    }
   },
   "outputs": [],
   "source": [
    "T = [1, 5, 10, 21, 42, 63]"
   ]
  },
  {
   "cell_type": "markdown",
   "metadata": {},
   "source": [
    "## Loading Stock Prices & Preparing Data, Excel Imports"
   ]
  },
  {
   "cell_type": "code",
   "execution_count": 9,
   "metadata": {
    "ExecuteTime": {
     "end_time": "2021-02-25T02:25:49.504343Z",
     "start_time": "2021-02-25T02:25:41.730118Z"
    }
   },
   "outputs": [
    {
     "data": {
      "text/html": [
       "<div>\n",
       "<style scoped>\n",
       "    .dataframe tbody tr th:only-of-type {\n",
       "        vertical-align: middle;\n",
       "    }\n",
       "\n",
       "    .dataframe tbody tr th {\n",
       "        vertical-align: top;\n",
       "    }\n",
       "\n",
       "    .dataframe thead th {\n",
       "        text-align: right;\n",
       "    }\n",
       "</style>\n",
       "<table border=\"1\" class=\"dataframe\">\n",
       "  <thead>\n",
       "    <tr style=\"text-align: right;\">\n",
       "      <th></th>\n",
       "      <th>0</th>\n",
       "      <th>1</th>\n",
       "      <th>2</th>\n",
       "      <th>3</th>\n",
       "      <th>4</th>\n",
       "      <th>5</th>\n",
       "      <th>6</th>\n",
       "      <th>7</th>\n",
       "      <th>8</th>\n",
       "      <th>9</th>\n",
       "      <th>...</th>\n",
       "      <th>10186</th>\n",
       "      <th>10187</th>\n",
       "      <th>10188</th>\n",
       "      <th>10189</th>\n",
       "      <th>10190</th>\n",
       "      <th>10191</th>\n",
       "      <th>10192</th>\n",
       "      <th>10193</th>\n",
       "      <th>10194</th>\n",
       "      <th>10195</th>\n",
       "    </tr>\n",
       "  </thead>\n",
       "  <tbody>\n",
       "    <tr>\n",
       "      <th>0</th>\n",
       "      <td>NaN</td>\n",
       "      <td>AAN UN Equity</td>\n",
       "      <td>NaN</td>\n",
       "      <td>NaN</td>\n",
       "      <td>NaN</td>\n",
       "      <td>NaN</td>\n",
       "      <td>AAON UW Equity</td>\n",
       "      <td>NaN</td>\n",
       "      <td>NaN</td>\n",
       "      <td>NaN</td>\n",
       "      <td>...</td>\n",
       "      <td>ZY UW Equity</td>\n",
       "      <td>NaN</td>\n",
       "      <td>NaN</td>\n",
       "      <td>NaN</td>\n",
       "      <td>NaN</td>\n",
       "      <td>ZYXI UW Equity</td>\n",
       "      <td>NaN</td>\n",
       "      <td>NaN</td>\n",
       "      <td>NaN</td>\n",
       "      <td>NaN</td>\n",
       "    </tr>\n",
       "    <tr>\n",
       "      <th>1</th>\n",
       "      <td>Dates</td>\n",
       "      <td>PX_LAST</td>\n",
       "      <td>PX_OPEN</td>\n",
       "      <td>PX_HIGH</td>\n",
       "      <td>PX_LOW</td>\n",
       "      <td>PX_VOLUME</td>\n",
       "      <td>PX_LAST</td>\n",
       "      <td>PX_OPEN</td>\n",
       "      <td>PX_HIGH</td>\n",
       "      <td>PX_LOW</td>\n",
       "      <td>...</td>\n",
       "      <td>PX_LAST</td>\n",
       "      <td>PX_OPEN</td>\n",
       "      <td>PX_HIGH</td>\n",
       "      <td>PX_LOW</td>\n",
       "      <td>PX_VOLUME</td>\n",
       "      <td>PX_LAST</td>\n",
       "      <td>PX_OPEN</td>\n",
       "      <td>PX_HIGH</td>\n",
       "      <td>PX_LOW</td>\n",
       "      <td>PX_VOLUME</td>\n",
       "    </tr>\n",
       "    <tr>\n",
       "      <th>2</th>\n",
       "      <td>2021-12-23 00:00:00</td>\n",
       "      <td>24.49</td>\n",
       "      <td>24.83</td>\n",
       "      <td>24.83</td>\n",
       "      <td>24.49</td>\n",
       "      <td>46526</td>\n",
       "      <td>78.57</td>\n",
       "      <td>78.9</td>\n",
       "      <td>79.67</td>\n",
       "      <td>78.46</td>\n",
       "      <td>...</td>\n",
       "      <td>7.61</td>\n",
       "      <td>7.31</td>\n",
       "      <td>7.66</td>\n",
       "      <td>7.16</td>\n",
       "      <td>213700</td>\n",
       "      <td>10.96</td>\n",
       "      <td>10.65</td>\n",
       "      <td>11.33</td>\n",
       "      <td>10.52</td>\n",
       "      <td>102349</td>\n",
       "    </tr>\n",
       "    <tr>\n",
       "      <th>3</th>\n",
       "      <td>2021-12-22 00:00:00</td>\n",
       "      <td>24.53</td>\n",
       "      <td>24.2</td>\n",
       "      <td>24.54</td>\n",
       "      <td>23.91</td>\n",
       "      <td>55663</td>\n",
       "      <td>78.6</td>\n",
       "      <td>78</td>\n",
       "      <td>78.89</td>\n",
       "      <td>77.9</td>\n",
       "      <td>...</td>\n",
       "      <td>7.31</td>\n",
       "      <td>7.43</td>\n",
       "      <td>7.59</td>\n",
       "      <td>7.08</td>\n",
       "      <td>262401</td>\n",
       "      <td>10.57</td>\n",
       "      <td>10.27</td>\n",
       "      <td>10.84</td>\n",
       "      <td>10.27</td>\n",
       "      <td>99515</td>\n",
       "    </tr>\n",
       "    <tr>\n",
       "      <th>4</th>\n",
       "      <td>2021-12-21 00:00:00</td>\n",
       "      <td>24.22</td>\n",
       "      <td>23.84</td>\n",
       "      <td>24.47</td>\n",
       "      <td>23.84</td>\n",
       "      <td>79388</td>\n",
       "      <td>77.91</td>\n",
       "      <td>77.54</td>\n",
       "      <td>78.37</td>\n",
       "      <td>77.01</td>\n",
       "      <td>...</td>\n",
       "      <td>7.41</td>\n",
       "      <td>7.16</td>\n",
       "      <td>7.44</td>\n",
       "      <td>7.09</td>\n",
       "      <td>655026</td>\n",
       "      <td>10.16</td>\n",
       "      <td>9.89</td>\n",
       "      <td>10.3</td>\n",
       "      <td>9.84</td>\n",
       "      <td>99037</td>\n",
       "    </tr>\n",
       "  </tbody>\n",
       "</table>\n",
       "<p>5 rows × 10196 columns</p>\n",
       "</div>"
      ],
      "text/plain": [
       "                 0              1        2        3       4          5      \\\n",
       "0                  NaN  AAN UN Equity      NaN      NaN     NaN        NaN   \n",
       "1                Dates        PX_LAST  PX_OPEN  PX_HIGH  PX_LOW  PX_VOLUME   \n",
       "2  2021-12-23 00:00:00          24.49    24.83    24.83   24.49      46526   \n",
       "3  2021-12-22 00:00:00          24.53     24.2    24.54   23.91      55663   \n",
       "4  2021-12-21 00:00:00          24.22    23.84    24.47   23.84      79388   \n",
       "\n",
       "            6        7        8       9      ...         10186    10187  \\\n",
       "0  AAON UW Equity      NaN      NaN     NaN  ...  ZY UW Equity      NaN   \n",
       "1         PX_LAST  PX_OPEN  PX_HIGH  PX_LOW  ...       PX_LAST  PX_OPEN   \n",
       "2           78.57     78.9    79.67   78.46  ...          7.61     7.31   \n",
       "3            78.6       78    78.89    77.9  ...          7.31     7.43   \n",
       "4           77.91    77.54    78.37   77.01  ...          7.41     7.16   \n",
       "\n",
       "     10188   10189      10190           10191    10192    10193   10194  \\\n",
       "0      NaN     NaN        NaN  ZYXI UW Equity      NaN      NaN     NaN   \n",
       "1  PX_HIGH  PX_LOW  PX_VOLUME         PX_LAST  PX_OPEN  PX_HIGH  PX_LOW   \n",
       "2     7.66    7.16     213700           10.96    10.65    11.33   10.52   \n",
       "3     7.59    7.08     262401           10.57    10.27    10.84   10.27   \n",
       "4     7.44    7.09     655026           10.16     9.89     10.3    9.84   \n",
       "\n",
       "       10195  \n",
       "0        NaN  \n",
       "1  PX_VOLUME  \n",
       "2     102349  \n",
       "3      99515  \n",
       "4      99037  \n",
       "\n",
       "[5 rows x 10196 columns]"
      ]
     },
     "execution_count": 9,
     "metadata": {},
     "output_type": "execute_result"
    }
   ],
   "source": [
    "# Ingest the high, open, low, close and volume data\n",
    "bdata = pd.read_excel('C:/Users/Eric/Desktop/Model Creation/Gradient Boosters/data/Book4.xlsx','Sheet4',header=None,engine='openpyxl')\n",
    "bdata.head()"
   ]
  },
  {
   "cell_type": "code",
   "execution_count": 10,
   "metadata": {},
   "outputs": [],
   "source": [
    "# Ingest ticker metadata\n",
    "bmeta = pd.read_excel('C:/Users/Eric/Desktop/Model Creation/Gradient Boosters/data/Book4.xlsx','Sheet1',header=0,engine='openpyxl')"
   ]
  },
  {
   "cell_type": "markdown",
   "metadata": {},
   "source": [
    "## Adjusting the formatting from excel for the Gradient Boosting algorithims used"
   ]
  },
  {
   "cell_type": "markdown",
   "metadata": {},
   "source": [
    "Creating the MultiIndex"
   ]
  },
  {
   "cell_type": "code",
   "execution_count": 11,
   "metadata": {},
   "outputs": [
    {
     "name": "stdout",
     "output_type": "stream",
     "text": [
      "1         AAN\n",
      "6        AAON\n",
      "11        AAT\n",
      "16       AAWW\n",
      "21       ABCB\n",
      "         ... \n",
      "10171     ZUO\n",
      "10176    ZVIA\n",
      "10181     ZWS\n",
      "10186      ZY\n",
      "10191    ZYXI\n",
      "Name: 0, Length: 2039, dtype: object\n"
     ]
    }
   ],
   "source": [
    "tickdata = bdata.iloc[0].dropna()\n",
    "tickdata = tickdata.str.split().str.get(0) # Isolate the ticker name\n",
    "tickdata = tickdata.str.replace(' ', '') # Formating issue with import data\n",
    "print(tickdata)"
   ]
  },
  {
   "cell_type": "code",
   "execution_count": 12,
   "metadata": {},
   "outputs": [
    {
     "name": "stdout",
     "output_type": "stream",
     "text": [
      "1      PX_LAST\n",
      "2      PX_OPEN\n",
      "3      PX_HIGH\n",
      "4       PX_LOW\n",
      "5    PX_VOLUME\n",
      "Name: 1, dtype: object\n"
     ]
    }
   ],
   "source": [
    "features = bdata.iloc[1,1:6]\n",
    "print(features)"
   ]
  },
  {
   "cell_type": "code",
   "execution_count": 14,
   "metadata": {},
   "outputs": [
    {
     "name": "stdout",
     "output_type": "stream",
     "text": [
      "MultiIndex([( 'AAN',   'PX_LAST'),\n",
      "            ( 'AAN',   'PX_OPEN'),\n",
      "            ( 'AAN',   'PX_HIGH'),\n",
      "            ( 'AAN',    'PX_LOW'),\n",
      "            ( 'AAN', 'PX_VOLUME'),\n",
      "            ('AAON',   'PX_LAST'),\n",
      "            ('AAON',   'PX_OPEN'),\n",
      "            ('AAON',   'PX_HIGH'),\n",
      "            ('AAON',    'PX_LOW'),\n",
      "            ('AAON', 'PX_VOLUME'),\n",
      "            ...\n",
      "            (  'ZY',   'PX_LAST'),\n",
      "            (  'ZY',   'PX_OPEN'),\n",
      "            (  'ZY',   'PX_HIGH'),\n",
      "            (  'ZY',    'PX_LOW'),\n",
      "            (  'ZY', 'PX_VOLUME'),\n",
      "            ('ZYXI',   'PX_LAST'),\n",
      "            ('ZYXI',   'PX_OPEN'),\n",
      "            ('ZYXI',   'PX_HIGH'),\n",
      "            ('ZYXI',    'PX_LOW'),\n",
      "            ('ZYXI', 'PX_VOLUME')],\n",
      "           names=['symbol', ''], length=10195)\n"
     ]
    }
   ],
   "source": [
    "multi = pd.MultiIndex.from_product([tickdata,features],names=['symbol',''])\n",
    "print(multi)"
   ]
  },
  {
   "cell_type": "markdown",
   "metadata": {},
   "source": [
    "Metadata preparation"
   ]
  },
  {
   "cell_type": "code",
   "execution_count": 15,
   "metadata": {},
   "outputs": [],
   "source": [
    "metadata=bmeta\n",
    "metadata['symbol']=metadata.symbol.str.split().str.get(0) # To match formatting of other dataframe\n",
    "metadata = metadata.loc[:,['symbol','GICS_SECTOR_NAME','CUR_MKT_CAP']].rename(columns={'GICS_SECTOR_NAME':'sector','CUR_MKT_CAP':'marketcap'}) #simplify column name\n",
    "metadata.set_index('symbol',inplace=True)"
   ]
  },
  {
   "cell_type": "markdown",
   "metadata": {},
   "source": [
    "Ticker data prepation"
   ]
  },
  {
   "cell_type": "code",
   "execution_count": 16,
   "metadata": {},
   "outputs": [
    {
     "name": "stdout",
     "output_type": "stream",
     "text": [
      "<class 'pandas.core.frame.DataFrame'>\n",
      "MultiIndex: 4337507 entries, ('AAN', Timestamp('2020-11-25 00:00:00')) to ('ZYXI', Timestamp('2021-12-23 00:00:00'))\n",
      "Data columns (total 5 columns):\n",
      " #   Column  Dtype  \n",
      "---  ------  -----  \n",
      " 0   high    float64\n",
      " 1   close   float64\n",
      " 2   low     float64\n",
      " 3   open    float64\n",
      " 4   volume  float64\n",
      "dtypes: float64(5)\n",
      "memory usage: 182.1+ MB\n"
     ]
    }
   ],
   "source": [
    "prices = bdata.transpose()\n",
    "prices.iloc[0,1]='NaN' # Ease of formating for later\n",
    "prices = prices.iloc[0:,2:]\n",
    "header = prices.iloc[0]\n",
    "\n",
    "prices = prices.iloc[1:]\n",
    "prices.rename(columns = header, inplace = True)\n",
    "prices.set_index(multi, inplace=True)\n",
    "\n",
    "prices = prices.stack().unstack(level=1)\n",
    "prices.index = prices.index.set_levels([prices.index.levels[0], pd.to_datetime(prices.index.levels[1],format='%y/%m/%d')])\n",
    "prices.index.names = ['symbol', 'date']\n",
    "prices.rename(columns=lambda x: x.replace('PX_', ''),inplace=True)\n",
    "prices.rename(columns={'HIGH':'high','LAST':'close','LOW':'low','OPEN':'open','VOLUME':'volume'},inplace=True)\n",
    "prices.volume /= 1e3 # make vol figures a bit smaller\n",
    "prices.sort_index(inplace=True)\n",
    "prices = prices.astype('float64')\n",
    "prices.info()"
   ]
  },
  {
   "cell_type": "code",
   "execution_count": 17,
   "metadata": {},
   "outputs": [
    {
     "name": "stdout",
     "output_type": "stream",
     "text": [
      "<class 'pandas.core.frame.DataFrame'>\n",
      "Index: 2039 entries, AAN to ZYXI\n",
      "Data columns (total 2 columns):\n",
      " #   Column     Non-Null Count  Dtype  \n",
      "---  ------     --------------  -----  \n",
      " 0   sector     2039 non-null   object \n",
      " 1   marketcap  2039 non-null   float64\n",
      "dtypes: float64(1), object(1)\n",
      "memory usage: 47.8+ KB\n"
     ]
    }
   ],
   "source": [
    "metadata.info()"
   ]
  },
  {
   "cell_type": "markdown",
   "metadata": {},
   "source": [
    "## Remove stocks with insufficient observations"
   ]
  },
  {
   "cell_type": "markdown",
   "metadata": {},
   "source": [
    "We require at least 7 years of data; we simplify and select using both in- and out-of-sample period"
   ]
  },
  {
   "cell_type": "code",
   "execution_count": null,
   "metadata": {
    "ExecuteTime": {
     "end_time": "2021-02-25T02:29:17.109549Z",
     "start_time": "2021-02-25T02:25:49.544945Z"
    }
   },
   "outputs": [],
   "source": [
    "min_obs = 7 * YEAR\n",
    "nobs = prices.groupby(level='symbol').size()\n",
    "keep = nobs[nobs > min_obs].index\n",
    "prices = prices.loc[idx[keep, :], :]"
   ]
  },
  {
   "cell_type": "markdown",
   "metadata": {},
   "source": [
    "### Align price and meta data"
   ]
  },
  {
   "cell_type": "code",
   "execution_count": null,
   "metadata": {
    "ExecuteTime": {
     "end_time": "2021-02-25T02:29:17.120202Z",
     "start_time": "2021-02-25T02:29:17.111416Z"
    }
   },
   "outputs": [],
   "source": [
    "metadata = metadata[~metadata.index.duplicated() & metadata.sector.notnull()]\n",
    "metadata.sector = metadata.sector.str.lower().str.replace(' ', '_')"
   ]
  },
  {
   "cell_type": "code",
   "execution_count": null,
   "metadata": {
    "ExecuteTime": {
     "end_time": "2021-02-25T02:32:22.346966Z",
     "start_time": "2021-02-25T02:29:17.121545Z"
    }
   },
   "outputs": [],
   "source": [
    "shared = (prices.index.get_level_values('symbol').unique()\n",
    "          .intersection(metadata.index))\n",
    "metadata = metadata.loc[shared, :]\n",
    "prices = prices.loc[idx[shared, :], :]"
   ]
  },
  {
   "cell_type": "markdown",
   "metadata": {},
   "source": [
    "Again, we simplify and use the entire sample period, not just the training period, to select our universe. "
   ]
  },
  {
   "cell_type": "code",
   "execution_count": 22,
   "metadata": {
    "ExecuteTime": {
     "end_time": "2021-02-25T02:33:28.698764Z",
     "start_time": "2021-02-25T02:32:22.348061Z"
    }
   },
   "outputs": [],
   "source": [
    "universe = metadata.marketcap.nlargest(1000).index # simplify amount of tickers for computation speed\n",
    "prices = prices.loc[idx[universe, :], :]\n",
    "metadata = metadata.loc[universe]"
   ]
  },
  {
   "cell_type": "code",
   "execution_count": 23,
   "metadata": {
    "ExecuteTime": {
     "end_time": "2021-02-25T02:33:28.712602Z",
     "start_time": "2021-02-25T02:33:28.699658Z"
    }
   },
   "outputs": [
    {
     "data": {
      "text/plain": [
       "financials                200\n",
       "industrials               165\n",
       "health_care               145\n",
       "consumer_discretionary    123\n",
       "information_technology    114\n",
       "real_estate                68\n",
       "materials                  50\n",
       "energy                     45\n",
       "consumer_staples           35\n",
       "communication_services     32\n",
       "utilities                  23\n",
       "Name: sector, dtype: int64"
      ]
     },
     "execution_count": 23,
     "metadata": {},
     "output_type": "execute_result"
    }
   ],
   "source": [
    "metadata.sector.value_counts()"
   ]
  },
  {
   "cell_type": "code",
   "execution_count": 24,
   "metadata": {
    "ExecuteTime": {
     "end_time": "2021-02-25T02:33:28.787555Z",
     "start_time": "2021-02-25T02:33:28.713711Z"
    }
   },
   "outputs": [
    {
     "name": "stdout",
     "output_type": "stream",
     "text": [
      "<class 'pandas.core.frame.DataFrame'>\n",
      "MultiIndex: 3025636 entries, ('AMC', Timestamp('2013-12-18 00:00:00')) to ('HAYN', Timestamp('2021-12-23 00:00:00'))\n",
      "Data columns (total 5 columns):\n",
      " #   Column  Non-Null Count    Dtype  \n",
      "---  ------  --------------    -----  \n",
      " 0   high    3025632 non-null  float64\n",
      " 1   close   3025632 non-null  float64\n",
      " 2   low     3025632 non-null  float64\n",
      " 3   open    3025632 non-null  float64\n",
      " 4   volume  3025636 non-null  float64\n",
      "dtypes: float64(5)\n",
      "memory usage: 127.1+ MB\n"
     ]
    }
   ],
   "source": [
    "prices.info(show_counts=True)"
   ]
  },
  {
   "cell_type": "code",
   "execution_count": 25,
   "metadata": {},
   "outputs": [],
   "source": [
    "prices.to_hdf('data/prices', 'prices') # for later ingesting"
   ]
  },
  {
   "cell_type": "markdown",
   "metadata": {},
   "source": [
    "### Rank assets by Rolling Average Dollar Volume"
   ]
  },
  {
   "cell_type": "markdown",
   "metadata": {},
   "source": [
    "#### Compute dollar volume"
   ]
  },
  {
   "cell_type": "code",
   "execution_count": 76,
   "metadata": {},
   "outputs": [],
   "source": [
    "prices['dollar_vol'] = prices[['close', 'volume']].prod(1).div(1e3)"
   ]
  },
  {
   "cell_type": "markdown",
   "metadata": {},
   "source": [
    "#### 21-day moving average"
   ]
  },
  {
   "cell_type": "code",
   "execution_count": 77,
   "metadata": {
    "ExecuteTime": {
     "end_time": "2021-02-25T02:33:36.748231Z",
     "start_time": "2021-02-25T02:33:28.797955Z"
    }
   },
   "outputs": [],
   "source": [
    "# compute dollar volume to determine universe\n",
    "dollar_vol_ma = (prices\n",
    "                 .dollar_vol\n",
    "                 .unstack('symbol')\n",
    "                 .rolling(window=21, min_periods=1) # 1 trading month\n",
    "                 .mean())"
   ]
  },
  {
   "cell_type": "markdown",
   "metadata": {},
   "source": [
    "#### Rank stocks by moving average"
   ]
  },
  {
   "cell_type": "code",
   "execution_count": 78,
   "metadata": {
    "ExecuteTime": {
     "end_time": "2021-02-25T02:33:36.992360Z",
     "start_time": "2021-02-25T02:33:36.750624Z"
    }
   },
   "outputs": [],
   "source": [
    "prices['dollar_vol_rank'] = (dollar_vol_ma\n",
    "                            .rank(axis=1, ascending=False)\n",
    "                            .stack('symbol')\n",
    "                            .swaplevel())"
   ]
  },
  {
   "cell_type": "code",
   "execution_count": 79,
   "metadata": {},
   "outputs": [
    {
     "name": "stdout",
     "output_type": "stream",
     "text": [
      "<class 'pandas.core.frame.DataFrame'>\n",
      "MultiIndex: 3025636 entries, ('AMC', Timestamp('2013-12-18 00:00:00')) to ('HAYN', Timestamp('2021-12-23 00:00:00'))\n",
      "Data columns (total 7 columns):\n",
      " #   Column           Non-Null Count    Dtype  \n",
      "---  ------           --------------    -----  \n",
      " 0   high             3025632 non-null  float64\n",
      " 1   close            3025632 non-null  float64\n",
      " 2   low              3025632 non-null  float64\n",
      " 3   open             3025632 non-null  float64\n",
      " 4   volume           3025636 non-null  float64\n",
      " 5   dollar_vol       3025636 non-null  float64\n",
      " 6   dollar_vol_rank  3025636 non-null  float64\n",
      "dtypes: float64(7)\n",
      "memory usage: 173.2+ MB\n"
     ]
    }
   ],
   "source": [
    "prices.info(show_counts=True)"
   ]
  },
  {
   "cell_type": "markdown",
   "metadata": {},
   "source": [
    "## Add some Basic Factors"
   ]
  },
  {
   "cell_type": "markdown",
   "metadata": {},
   "source": [
    "See [appendix](../24_alpha_factor_library) for details on the below indicators."
   ]
  },
  {
   "cell_type": "markdown",
   "metadata": {},
   "source": [
    "### Compute the Relative Strength Index"
   ]
  },
  {
   "cell_type": "code",
   "execution_count": 80,
   "metadata": {
    "ExecuteTime": {
     "end_time": "2021-02-25T02:33:48.466650Z",
     "start_time": "2021-02-25T02:33:36.993227Z"
    }
   },
   "outputs": [],
   "source": [
    "prices['rsi'] = prices.groupby(level='symbol').close.apply(RSI)"
   ]
  },
  {
   "cell_type": "code",
   "execution_count": 81,
   "metadata": {
    "ExecuteTime": {
     "end_time": "2021-02-25T02:33:53.995183Z",
     "start_time": "2021-02-25T02:33:48.467651Z"
    }
   },
   "outputs": [
    {
     "data": {
      "image/png": "[encoded data removed]",
      "text/plain": [
       "<Figure size 432x288 with 1 Axes>"
      ]
     },
     "metadata": {},
     "output_type": "display_data"
    }
   ],
   "source": [
    "ax = sns.distplot(prices.rsi.dropna())\n",
    "ax.axvline(30, ls='--', lw=1, c='k')\n",
    "ax.axvline(70, ls='--', lw=1, c='k')\n",
    "ax.set_title('RSI Distribution with Signal Threshold')\n",
    "sns.despine()\n",
    "plt.tight_layout();"
   ]
  },
  {
   "cell_type": "markdown",
   "metadata": {},
   "source": [
    "### Compute Bollinger Bands"
   ]
  },
  {
   "cell_type": "code",
   "execution_count": 82,
   "metadata": {
    "ExecuteTime": {
     "end_time": "2021-02-25T02:33:53.998945Z",
     "start_time": "2021-02-25T02:33:53.996992Z"
    }
   },
   "outputs": [],
   "source": [
    "def compute_bb(close):\n",
    "    high, mid, low = BBANDS(close, timeperiod=20)\n",
    "    return pd.DataFrame({'bb_high': high, 'bb_low': low}, index=close.index)"
   ]
  },
  {
   "cell_type": "code",
   "execution_count": 83,
   "metadata": {
    "ExecuteTime": {
     "end_time": "2021-02-25T02:34:09.287189Z",
     "start_time": "2021-02-25T02:33:53.999703Z"
    }
   },
   "outputs": [],
   "source": [
    "prices = (prices.join(prices\n",
    "                      .groupby(level='symbol')\n",
    "                      .close\n",
    "                      .apply(compute_bb)))"
   ]
  },
  {
   "cell_type": "code",
   "execution_count": 84,
   "metadata": {
    "ExecuteTime": {
     "end_time": "2021-02-25T02:34:09.333606Z",
     "start_time": "2021-02-25T02:34:09.288161Z"
    }
   },
   "outputs": [],
   "source": [
    "prices['bb_high'] = prices.bb_high.sub(prices.close).div(prices.bb_high).apply(np.log1p)\n",
    "prices['bb_low'] = prices.close.sub(prices.bb_low).div(prices.close).apply(np.log1p)"
   ]
  },
  {
   "cell_type": "code",
   "execution_count": 85,
   "metadata": {
    "ExecuteTime": {
     "end_time": "2021-02-25T02:34:09.629357Z",
     "start_time": "2021-02-25T02:34:09.335771Z"
    },
    "scrolled": true
   },
   "outputs": [
    {
     "data": {
      "image/png": "[encoded data removed]",
      "text/plain": [
       "<Figure size 1080x360 with 2 Axes>"
      ]
     },
     "metadata": {},
     "output_type": "display_data"
    }
   ],
   "source": [
    "fig, axes = plt.subplots(ncols=2, figsize=(15, 5))\n",
    "sns.distplot(prices.loc[prices.dollar_vol_rank<100, 'bb_low'].dropna(), ax=axes[0])\n",
    "sns.distplot(prices.loc[prices.dollar_vol_rank<100, 'bb_high'].dropna(), ax=axes[1])\n",
    "sns.despine()\n",
    "plt.tight_layout();"
   ]
  },
  {
   "cell_type": "code",
   "execution_count": 86,
   "metadata": {},
   "outputs": [],
   "source": [
    "def compute_SAR(stock_data):\n",
    "    sar = SAR(stock_data.high, stock_data.low, acceleration=0.02, maximum=0.2)\n",
    "    return pd.DataFrame({'SAR':sar})"
   ]
  },
  {
   "cell_type": "code",
   "execution_count": 87,
   "metadata": {},
   "outputs": [],
   "source": [
    "prices['SAR'] = (prices.groupby('symbol', group_keys=False)\n",
    "                 .apply(compute_SAR))"
   ]
  },
  {
   "cell_type": "markdown",
   "metadata": {},
   "source": [
    "### Compute Average True Range"
   ]
  },
  {
   "cell_type": "code",
   "execution_count": 89,
   "metadata": {
    "ExecuteTime": {
     "end_time": "2021-02-25T02:34:14.101089Z",
     "start_time": "2021-02-25T02:34:09.631132Z"
    }
   },
   "outputs": [],
   "source": [
    "prices['NATR'] = prices.groupby(level='symbol', \n",
    "                                group_keys=False).apply(lambda x: \n",
    "                                                        talib.NATR(x.high, x.low, x.close))"
   ]
  },
  {
   "cell_type": "code",
   "execution_count": 90,
   "metadata": {
    "ExecuteTime": {
     "end_time": "2021-02-25T02:34:14.104983Z",
     "start_time": "2021-02-25T02:34:14.101994Z"
    }
   },
   "outputs": [],
   "source": [
    "def compute_atr(stock_data):\n",
    "    df = ATR(stock_data.high, stock_data.low, \n",
    "             stock_data.close, timeperiod=14)\n",
    "    return df.sub(df.mean()).div(df.std())"
   ]
  },
  {
   "cell_type": "code",
   "execution_count": 91,
   "metadata": {
    "ExecuteTime": {
     "end_time": "2021-02-25T02:34:19.371984Z",
     "start_time": "2021-02-25T02:34:14.106249Z"
    }
   },
   "outputs": [],
   "source": [
    "prices['ATR'] = (prices.groupby('symbol', group_keys=False)\n",
    "                 .apply(compute_atr))"
   ]
  },
  {
   "cell_type": "markdown",
   "metadata": {},
   "source": [
    "### Compute Moving Average Convergence/Divergence"
   ]
  },
  {
   "cell_type": "code",
   "execution_count": 92,
   "metadata": {
    "ExecuteTime": {
     "end_time": "2021-02-25T02:34:30.296463Z",
     "start_time": "2021-02-25T02:34:19.372947Z"
    }
   },
   "outputs": [],
   "source": [
    "prices['PPO'] = prices.groupby(level='symbol').close.apply(talib.PPO)"
   ]
  },
  {
   "cell_type": "code",
   "execution_count": 93,
   "metadata": {
    "ExecuteTime": {
     "end_time": "2021-02-25T02:34:30.300707Z",
     "start_time": "2021-02-25T02:34:30.297511Z"
    }
   },
   "outputs": [],
   "source": [
    "def compute_macd(close):\n",
    "    macd = MACD(close)[0]\n",
    "    return (macd - np.mean(macd))/np.std(macd)"
   ]
  },
  {
   "cell_type": "code",
   "execution_count": 94,
   "metadata": {
    "ExecuteTime": {
     "end_time": "2021-02-25T02:34:41.963633Z",
     "start_time": "2021-02-25T02:34:30.301878Z"
    }
   },
   "outputs": [],
   "source": [
    "prices['MACD'] = (prices\n",
    "                  .groupby('symbol', group_keys=False)\n",
    "                  .close\n",
    "                  .apply(compute_macd))"
   ]
  },
  {
   "cell_type": "markdown",
   "metadata": {},
   "source": [
    "### Combine Price and Meta Data"
   ]
  },
  {
   "cell_type": "code",
   "execution_count": 95,
   "metadata": {
    "ExecuteTime": {
     "end_time": "2021-02-25T02:34:42.032942Z",
     "start_time": "2021-02-25T02:34:41.965666Z"
    }
   },
   "outputs": [],
   "source": [
    "metadata.sector = pd.factorize(metadata.sector)[0].astype(int)\n",
    "prices = prices.join(metadata[['sector']])"
   ]
  },
  {
   "cell_type": "markdown",
   "metadata": {},
   "source": [
    "## Compute Returns"
   ]
  },
  {
   "cell_type": "markdown",
   "metadata": {},
   "source": [
    "### Historical Returns"
   ]
  },
  {
   "cell_type": "code",
   "execution_count": 96,
   "metadata": {
    "ExecuteTime": {
     "end_time": "2021-02-25T02:34:42.804305Z",
     "start_time": "2021-02-25T02:34:42.033855Z"
    }
   },
   "outputs": [],
   "source": [
    "by_sym = prices.groupby(level='symbol').close\n",
    "for t in T:\n",
    "    prices[f'r{t:02}'] = by_sym.pct_change(t)"
   ]
  },
  {
   "cell_type": "markdown",
   "metadata": {},
   "source": [
    "### Daily historical return deciles"
   ]
  },
  {
   "cell_type": "code",
   "execution_count": 97,
   "metadata": {
    "ExecuteTime": {
     "end_time": "2021-02-25T02:36:01.526052Z",
     "start_time": "2021-02-25T02:34:42.805173Z"
    }
   },
   "outputs": [],
   "source": [
    "for t in T:\n",
    "    prices[f'r{t:02}dec'] = (prices[f'r{t:02}']\n",
    "                             .groupby(level='date')\n",
    "                             .apply(lambda x: pd.qcut(x, \n",
    "                                                      q=10, \n",
    "                                                      labels=False, \n",
    "                                                      duplicates='drop')))"
   ]
  },
  {
   "cell_type": "markdown",
   "metadata": {},
   "source": [
    "### Daily sector return deciles"
   ]
  },
  {
   "cell_type": "code",
   "execution_count": 98,
   "metadata": {
    "ExecuteTime": {
     "end_time": "2021-02-25T02:38:20.308961Z",
     "start_time": "2021-02-25T02:36:01.527108Z"
    },
    "scrolled": false
   },
   "outputs": [],
   "source": [
    "for t in T:\n",
    "    prices[f'r{t:02}q_sector'] = (prices\n",
    "                                  .groupby(['date', 'sector'])[f'r{t:02}']\n",
    "                                  .transform(lambda x: pd.qcut(x, \n",
    "                                                               q=5, \n",
    "                                                               labels=False, \n",
    "                                                               duplicates='drop')))"
   ]
  },
  {
   "cell_type": "markdown",
   "metadata": {},
   "source": [
    "### Compute Forward Returns"
   ]
  },
  {
   "cell_type": "code",
   "execution_count": 99,
   "metadata": {
    "ExecuteTime": {
     "end_time": "2021-02-25T02:38:20.826643Z",
     "start_time": "2021-02-25T02:38:20.309989Z"
    }
   },
   "outputs": [],
   "source": [
    "for t in [1, 5, 21]:\n",
    "    prices[f'r{t:02}_fwd'] = prices.groupby(level='symbol')[f'r{t:02}'].shift(-t)"
   ]
  },
  {
   "cell_type": "markdown",
   "metadata": {},
   "source": [
    "## Remove outliers"
   ]
  },
  {
   "cell_type": "code",
   "execution_count": 100,
   "metadata": {
    "ExecuteTime": {
     "end_time": "2021-02-25T02:38:21.677765Z",
     "start_time": "2021-02-25T02:38:20.827605Z"
    }
   },
   "outputs": [
    {
     "data": {
      "text/html": [
       "<div>\n",
       "<style scoped>\n",
       "    .dataframe tbody tr th:only-of-type {\n",
       "        vertical-align: middle;\n",
       "    }\n",
       "\n",
       "    .dataframe tbody tr th {\n",
       "        vertical-align: top;\n",
       "    }\n",
       "\n",
       "    .dataframe thead th {\n",
       "        text-align: right;\n",
       "    }\n",
       "</style>\n",
       "<table border=\"1\" class=\"dataframe\">\n",
       "  <thead>\n",
       "    <tr style=\"text-align: right;\">\n",
       "      <th></th>\n",
       "      <th>r01</th>\n",
       "      <th>r05</th>\n",
       "      <th>r10</th>\n",
       "      <th>r21</th>\n",
       "      <th>r42</th>\n",
       "      <th>r63</th>\n",
       "    </tr>\n",
       "  </thead>\n",
       "  <tbody>\n",
       "    <tr>\n",
       "      <th>count</th>\n",
       "      <td>3.024632e+06</td>\n",
       "      <td>3.020632e+06</td>\n",
       "      <td>3.015632e+06</td>\n",
       "      <td>3.004632e+06</td>\n",
       "      <td>2.983632e+06</td>\n",
       "      <td>2.962632e+06</td>\n",
       "    </tr>\n",
       "    <tr>\n",
       "      <th>mean</th>\n",
       "      <td>7.738624e-04</td>\n",
       "      <td>3.745831e-03</td>\n",
       "      <td>7.329746e-03</td>\n",
       "      <td>1.542132e-02</td>\n",
       "      <td>3.059214e-02</td>\n",
       "      <td>4.543699e-02</td>\n",
       "    </tr>\n",
       "    <tr>\n",
       "      <th>std</th>\n",
       "      <td>3.362880e-02</td>\n",
       "      <td>7.437667e-02</td>\n",
       "      <td>1.035465e-01</td>\n",
       "      <td>1.507662e-01</td>\n",
       "      <td>2.255153e-01</td>\n",
       "      <td>2.924734e-01</td>\n",
       "    </tr>\n",
       "    <tr>\n",
       "      <th>min</th>\n",
       "      <td>-8.666667e-01</td>\n",
       "      <td>-9.152941e-01</td>\n",
       "      <td>-9.497908e-01</td>\n",
       "      <td>-9.535484e-01</td>\n",
       "      <td>-9.810284e-01</td>\n",
       "      <td>-9.805710e-01</td>\n",
       "    </tr>\n",
       "    <tr>\n",
       "      <th>25%</th>\n",
       "      <td>-1.076182e-02</td>\n",
       "      <td>-2.444349e-02</td>\n",
       "      <td>-3.399584e-02</td>\n",
       "      <td>-4.795964e-02</td>\n",
       "      <td>-6.379453e-02</td>\n",
       "      <td>-7.566419e-02</td>\n",
       "    </tr>\n",
       "    <tr>\n",
       "      <th>50%</th>\n",
       "      <td>0.000000e+00</td>\n",
       "      <td>1.364256e-03</td>\n",
       "      <td>3.250975e-03</td>\n",
       "      <td>7.801563e-03</td>\n",
       "      <td>1.497631e-02</td>\n",
       "      <td>2.197802e-02</td>\n",
       "    </tr>\n",
       "    <tr>\n",
       "      <th>75%</th>\n",
       "      <td>1.161414e-02</td>\n",
       "      <td>2.905812e-02</td>\n",
       "      <td>4.370608e-02</td>\n",
       "      <td>6.856088e-02</td>\n",
       "      <td>1.042434e-01</td>\n",
       "      <td>1.345152e-01</td>\n",
       "    </tr>\n",
       "    <tr>\n",
       "      <th>max</th>\n",
       "      <td>2.223529e+01</td>\n",
       "      <td>2.264706e+01</td>\n",
       "      <td>2.245588e+01</td>\n",
       "      <td>2.069128e+01</td>\n",
       "      <td>5.338596e+01</td>\n",
       "      <td>5.214286e+01</td>\n",
       "    </tr>\n",
       "  </tbody>\n",
       "</table>\n",
       "</div>"
      ],
      "text/plain": [
       "                r01           r05           r10           r21           r42  \\\n",
       "count  3.024632e+06  3.020632e+06  3.015632e+06  3.004632e+06  2.983632e+06   \n",
       "mean   7.738624e-04  3.745831e-03  7.329746e-03  1.542132e-02  3.059214e-02   \n",
       "std    3.362880e-02  7.437667e-02  1.035465e-01  1.507662e-01  2.255153e-01   \n",
       "min   -8.666667e-01 -9.152941e-01 -9.497908e-01 -9.535484e-01 -9.810284e-01   \n",
       "25%   -1.076182e-02 -2.444349e-02 -3.399584e-02 -4.795964e-02 -6.379453e-02   \n",
       "50%    0.000000e+00  1.364256e-03  3.250975e-03  7.801563e-03  1.497631e-02   \n",
       "75%    1.161414e-02  2.905812e-02  4.370608e-02  6.856088e-02  1.042434e-01   \n",
       "max    2.223529e+01  2.264706e+01  2.245588e+01  2.069128e+01  5.338596e+01   \n",
       "\n",
       "                r63  \n",
       "count  2.962632e+06  \n",
       "mean   4.543699e-02  \n",
       "std    2.924734e-01  \n",
       "min   -9.805710e-01  \n",
       "25%   -7.566419e-02  \n",
       "50%    2.197802e-02  \n",
       "75%    1.345152e-01  \n",
       "max    5.214286e+01  "
      ]
     },
     "execution_count": 100,
     "metadata": {},
     "output_type": "execute_result"
    }
   ],
   "source": [
    "prices[[f'r{t:02}' for t in T]].describe()"
   ]
  },
  {
   "cell_type": "markdown",
   "metadata": {},
   "source": [
    "Remove daily returns above 100 percent as these are more likely to represent data errors. Apply more careful exploratory and historical analysis in general."
   ]
  },
  {
   "cell_type": "code",
   "execution_count": 101,
   "metadata": {
    "ExecuteTime": {
     "end_time": "2021-02-25T02:38:21.686263Z",
     "start_time": "2021-02-25T02:38:21.679059Z"
    }
   },
   "outputs": [
    {
     "data": {
      "text/plain": [
       "Index(['AMC', 'CAR', 'GBCI', 'NOVT', 'GTLS', 'CELH', 'SKY', 'ITCI', 'CNMD',\n",
       "       'HOMB', 'MARA', 'ACAD', 'INSM', 'HLIO', 'RAMP', 'DDD', 'CCXI', 'FCEL',\n",
       "       'STFC', 'MFA', 'ARGO', 'SAVA', 'SRNE', 'SUPN', 'RCKT', 'AMRX', 'MDGL',\n",
       "       'GES', 'AVID', 'ERII', 'LPI', 'AXL', 'MGNX', 'OCGN', 'HRTX', 'GEVO',\n",
       "       'MVIS', 'ZGNX', 'GCI', 'MMAT', 'LEU', 'IIIN', 'CPRX', 'AFMD', 'MGI',\n",
       "       'LXRX', 'SIGA', 'ABUS', 'EGLE', 'INVE', 'ICPT'],\n",
       "      dtype='object', name='symbol')"
      ]
     },
     "execution_count": 101,
     "metadata": {},
     "output_type": "execute_result"
    }
   ],
   "source": [
    "outliers = prices[prices.r01 > 1.5].index.get_level_values('symbol').unique()\n",
    "print(outliers)"
   ]
  },
  {
   "cell_type": "code",
   "execution_count": 102,
   "metadata": {
    "ExecuteTime": {
     "end_time": "2021-02-25T02:38:31.520250Z",
     "start_time": "2021-02-25T02:38:21.687319Z"
    }
   },
   "outputs": [],
   "source": [
    "prices = prices.drop(outliers, level='symbol')"
   ]
  },
  {
   "cell_type": "markdown",
   "metadata": {},
   "source": [
    "## Create time and sector dummy variables"
   ]
  },
  {
   "cell_type": "code",
   "execution_count": 103,
   "metadata": {
    "ExecuteTime": {
     "end_time": "2021-02-25T02:38:31.918710Z",
     "start_time": "2021-02-25T02:38:31.521204Z"
    }
   },
   "outputs": [],
   "source": [
    "prices['year'] = prices.index.get_level_values('date').year\n",
    "prices['month'] = prices.index.get_level_values('date').month\n",
    "prices['weekday'] = prices.index.get_level_values('date').weekday"
   ]
  },
  {
   "cell_type": "markdown",
   "metadata": {},
   "source": [
    "## Store Model Data"
   ]
  },
  {
   "cell_type": "code",
   "execution_count": 104,
   "metadata": {
    "ExecuteTime": {
     "end_time": "2021-02-25T02:38:32.137143Z",
     "start_time": "2021-02-25T02:38:31.920222Z"
    },
    "scrolled": false
   },
   "outputs": [
    {
     "name": "stdout",
     "output_type": "stream",
     "text": [
      "<class 'pandas.core.frame.DataFrame'>\n",
      "MultiIndex: 2879460 entries, ('SYNA', Timestamp('2009-06-22 00:00:00')) to ('HAYN', Timestamp('2021-12-23 00:00:00'))\n",
      "Data columns (total 40 columns):\n",
      " #   Column           Non-Null Count    Dtype  \n",
      "---  ------           --------------    -----  \n",
      " 0   high             2879456 non-null  float64\n",
      " 1   close            2879456 non-null  float64\n",
      " 2   low              2879456 non-null  float64\n",
      " 3   open             2879456 non-null  float64\n",
      " 4   volume           2879460 non-null  float64\n",
      " 5   dollar_vol       2879460 non-null  float64\n",
      " 6   dollar_vol_rank  2879460 non-null  float64\n",
      " 7   rsi              2866170 non-null  float64\n",
      " 8   bb_high          2861425 non-null  float64\n",
      " 9   bb_low           2861410 non-null  float64\n",
      " 10  SAR              2878507 non-null  float64\n",
      " 11  NATR             2866170 non-null  float64\n",
      " 12  ATR              2866170 non-null  float64\n",
      " 13  PPO              2855731 non-null  float64\n",
      " 14  MACD             2848139 non-null  float64\n",
      " 15  sector           2879460 non-null  int32  \n",
      " 16  r01              2878507 non-null  float64\n",
      " 17  r05              2874711 non-null  float64\n",
      " 18  r10              2869966 non-null  float64\n",
      " 19  r21              2859527 non-null  float64\n",
      " 20  r42              2839598 non-null  float64\n",
      " 21  r63              2819669 non-null  float64\n",
      " 22  r01dec           2778852 non-null  float64\n",
      " 23  r05dec           2874711 non-null  float64\n",
      " 24  r10dec           2869966 non-null  float64\n",
      " 25  r21dec           2859527 non-null  float64\n",
      " 26  r42dec           2839598 non-null  float64\n",
      " 27  r63dec           2819669 non-null  float64\n",
      " 28  r01q_sector      2778852 non-null  float64\n",
      " 29  r05q_sector      2874711 non-null  float64\n",
      " 30  r10q_sector      2869966 non-null  float64\n",
      " 31  r21q_sector      2859527 non-null  float64\n",
      " 32  r42q_sector      2839598 non-null  float64\n",
      " 33  r63q_sector      2819669 non-null  float64\n",
      " 34  r01_fwd          2878507 non-null  float64\n",
      " 35  r05_fwd          2874711 non-null  float64\n",
      " 36  r21_fwd          2859527 non-null  float64\n",
      " 37  year             2879460 non-null  int64  \n",
      " 38  month            2879460 non-null  int64  \n",
      " 39  weekday          2879460 non-null  int64  \n",
      "dtypes: float64(36), int32(1), int64(3)\n",
      "memory usage: 879.0+ MB\n"
     ]
    }
   ],
   "source": [
    "prices.info(show_counts=True)"
   ]
  },
  {
   "cell_type": "code",
   "execution_count": 105,
   "metadata": {
    "ExecuteTime": {
     "end_time": "2021-02-25T02:38:32.822413Z",
     "start_time": "2021-02-25T02:38:32.138150Z"
    }
   },
   "outputs": [],
   "source": [
    "prices.drop(['open', 'close', 'low', 'high', 'volume'], axis=1).to_hdf('data.h5', 'model_data')"
   ]
  }
 ],
 "metadata": {
  "kernelspec": {
   "display_name": "Python 3",
   "language": "python",
   "name": "python3"
  },
  "language_info": {
   "codemirror_mode": {
    "name": "ipython",
    "version": 3
   },
   "file_extension": ".py",
   "mimetype": "text/x-python",
   "name": "python",
   "nbconvert_exporter": "python",
   "pygments_lexer": "ipython3",
   "version": "3.8.8"
  },
  "toc": {
   "base_numbering": 1,
   "nav_menu": {},
   "number_sections": true,
   "sideBar": true,
   "skip_h1_title": true,
   "title_cell": "Table of Contents",
   "title_sidebar": "Contents",
   "toc_cell": false,
   "toc_position": {},
   "toc_section_display": true,
   "toc_window_display": true
  }
 },
 "nbformat": 4,
 "nbformat_minor": 2
}
